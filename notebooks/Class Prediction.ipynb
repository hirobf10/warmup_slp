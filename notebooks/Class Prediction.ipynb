{
 "cells": [
  {
   "cell_type": "code",
   "execution_count": 2,
   "metadata": {},
   "outputs": [],
   "source": [
    "from sklearn.feature_extraction.text import CountVectorizer\n",
    "from sklearn.linear_model import LogisticRegression\n",
    "from sklearn.metrics import confusion_matrix"
   ]
  },
  {
   "cell_type": "markdown",
   "metadata": {},
   "source": [
    "CountVectolizer (BoW) + Logistic Regression\n",
    "- Get count vectors\n",
    "- Train a Logistic Regression model, by utilizing the count vectors"
   ]
  },
  {
   "cell_type": "code",
   "execution_count": 10,
   "metadata": {},
   "outputs": [],
   "source": [
    "SEED = 42"
   ]
  },
  {
   "cell_type": "code",
   "execution_count": 4,
   "metadata": {},
   "outputs": [],
   "source": [
    "train_file_path = \"../data/titles-en-train.labeled\"\n",
    "test_file_path = \"../data/titles-en-test.labeled\"\n",
    "\n",
    "with open(train_file_path, \"r\", encoding=\"utf-8\") as f:\n",
    "    train_file = [line.splitlines()[0] for line in f.readlines()]\n",
    "    \n",
    "with open(test_file_path, \"r\", encoding=\"utf-8\") as f:\n",
    "    test_file = [line.splitlines()[0] for line in f.readlines()]"
   ]
  },
  {
   "cell_type": "code",
   "execution_count": 5,
   "metadata": {},
   "outputs": [],
   "source": [
    "def get_text_label(file):\n",
    "    X, y = [], []\n",
    "    for line in file:\n",
    "        y_i, x_i = line.split(\"\\t\")\n",
    "        X.append(x_i)\n",
    "        assert int(y_i) == -1 or int(y_i) == 1\n",
    "        if int(y_i) == -1: # NON-PERSON\n",
    "            y.append(0)\n",
    "        elif int(y_i) == 1: # PERSON\n",
    "            y.append(1)\n",
    "    return X, y\n",
    "text_train, y_train = get_text_label(train_file)\n",
    "text_test, y_test = get_text_label(test_file)"
   ]
  },
  {
   "cell_type": "code",
   "execution_count": 6,
   "metadata": {},
   "outputs": [],
   "source": [
    "cv = CountVectorizer()\n",
    "X_train = cv.fit_transform(text_train)\n",
    "X_test = cv.transform(text_test)"
   ]
  },
  {
   "cell_type": "code",
   "execution_count": 7,
   "metadata": {},
   "outputs": [],
   "source": [
    "model = LogisticRegression(random_state=SEED, n_jobs=-1)\n",
    "model.fit(X_train, y_train)\n",
    "\n",
    "y_pred = model.predict(X_test)"
   ]
  },
  {
   "cell_type": "code",
   "execution_count": 8,
   "metadata": {
    "scrolled": true
   },
   "outputs": [
    {
     "name": "stdout",
     "output_type": "stream",
     "text": [
      "Accuracy:  0.942\n",
      "Precision:  0.952\n",
      "Recall:  0.925\n",
      "f-score:  0.938\n"
     ]
    }
   ],
   "source": [
    "tn, fp, fn, tp = confusion_matrix(y_test, y_pred).flatten()\n",
    "acc = (tn + tp) / (tn + fp + fn + tp)\n",
    "prec = tp / (fp + tp)\n",
    "recall = tp / (fn + tp)\n",
    "f1 = 2 * prec * recall / (prec + recall)\n",
    "\n",
    "print(f\"Accuracy: {acc : .3f}\")\n",
    "print(f\"Precision: {prec : .3f}\")\n",
    "print(f\"Recall: {recall : .3f}\")\n",
    "print(f\"f-score: {f1 : .3f}\")"
   ]
  },
  {
   "cell_type": "code",
   "execution_count": 9,
   "metadata": {},
   "outputs": [
    {
     "name": "stdout",
     "output_type": "stream",
     "text": [
      "Input integer between 0 - 2822\n",
      "Your input: 90\n",
      "Sentence ==============================\n",
      "The Imperial Family is a generic term for the Emperor and the members of the Imperial Family .\n",
      "=======================================\n",
      "The model predicted this sentence as: PERSON\n"
     ]
    }
   ],
   "source": [
    "idx = int(input(f\"Input integer between 0 - {len(text_test)-1}\\nYour input: \"))\n",
    "print(\"Sentence\", \"=\"*30)\n",
    "print(text_test[idx])\n",
    "print(\"=\"*39)\n",
    "pred = model.predict(cv.transform([text_test[idx]]))\n",
    "print(\"The model predicted this sentence as: \", end=\"\")\n",
    "if pred[0] == 0:\n",
    "    print(\"NON-PERSON\")\n",
    "else:\n",
    "    print(\"PERSON\")"
   ]
  }
 ],
 "metadata": {
  "kernelspec": {
   "display_name": "py38",
   "language": "python",
   "name": "py38"
  },
  "language_info": {
   "codemirror_mode": {
    "name": "ipython",
    "version": 3
   },
   "file_extension": ".py",
   "mimetype": "text/x-python",
   "name": "python",
   "nbconvert_exporter": "python",
   "pygments_lexer": "ipython3",
   "version": "3.8.2"
  }
 },
 "nbformat": 4,
 "nbformat_minor": 4
}
